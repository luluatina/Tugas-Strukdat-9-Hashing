{
  "nbformat": 4,
  "nbformat_minor": 0,
  "metadata": {
    "colab": {
      "provenance": [],
      "authorship_tag": "ABX9TyOrn8nqLBASO/l8c+2Ovs5I",
      "include_colab_link": true
    },
    "kernelspec": {
      "name": "python3",
      "display_name": "Python 3"
    },
    "language_info": {
      "name": "python"
    }
  },
  "cells": [
    {
      "cell_type": "markdown",
      "metadata": {
        "id": "view-in-github",
        "colab_type": "text"
      },
      "source": [
        "<a href=\"https://colab.research.google.com/github/luluatina/Tugas-Strukdat-9-Hashing/blob/main/Tugas_9_Hashing.ipynb\" target=\"_parent\"><img src=\"https://colab.research.google.com/assets/colab-badge.svg\" alt=\"Open In Colab\"/></a>"
      ]
    },
    {
      "cell_type": "code",
      "execution_count": 1,
      "metadata": {
        "id": "QHuNRVPhgW1i",
        "colab": {
          "base_uri": "https://localhost:8080/"
        },
        "outputId": "66f3a16a-8040-4c1c-97c4-cc20e99a67fe"
      },
      "outputs": [
        {
          "output_type": "stream",
          "name": "stdout",
          "text": [
            "Isi tabel Linear Probing: [('C', 30), ('A', 10), ('D', 40), ('E', 50), ('B', 20)]\n"
          ]
        }
      ],
      "source": [
        "# Eksperimen Sederhana Linear Probing\n",
        "\n",
        "class LinearProbingHashTable:\n",
        "    def __init__(self, size):\n",
        "        self.size = size\n",
        "        self.table = [None] * size\n",
        "\n",
        "    def hash_function(self, key):\n",
        "        return hash(key) % self.size\n",
        "\n",
        "    def insert(self, key, value):\n",
        "        index = self.hash_function(key)\n",
        "        original_index = index\n",
        "\n",
        "        while self.table[index] is not None:\n",
        "            if self.table[index][0] == key:\n",
        "                break\n",
        "            index = (index + 1) % self.size\n",
        "            if index == original_index:\n",
        "                raise ValueError(\"Hash table penuh\")\n",
        "\n",
        "        self.table[index] = (key, value)\n",
        "\n",
        "    def __str__(self):\n",
        "        return str(self.table)\n",
        "\n",
        "ht = LinearProbingHashTable(5)\n",
        "data = {\"A\": 10, \"B\": 20, \"C\": 30, \"D\": 40, \"E\": 50}\n",
        "for k, v in data.items():\n",
        "    ht.insert(k, v)\n",
        "\n",
        "print(\"Isi tabel Linear Probing:\", ht)\n"
      ]
    },
    {
      "cell_type": "code",
      "source": [
        "# Percobaan Dasar Chaining\n",
        "class ChainingHashTable:\n",
        "    def __init__(self, size):\n",
        "        self.size = size\n",
        "        self.table = [[] for _ in range(size)]\n",
        "\n",
        "    def hash_function(self, key):\n",
        "        return hash(key) % self.size\n",
        "\n",
        "    def insert(self, key, value):\n",
        "        index = self.hash_function(key)\n",
        "        for i, (k, v) in enumerate(self.table[index]):\n",
        "            if k == key:\n",
        "                self.table[index][i] = (key, value)\n",
        "                return\n",
        "        self.table[index].append((key, value))\n",
        "\n",
        "    def __str__(self):\n",
        "        return str(self.table)\n",
        "\n",
        "ht = ChainingHashTable(3)\n",
        "\n",
        "data = {\"apel\": 100, \"melon\": 200, \"lemon\": 300, \"pisang\": 400}\n",
        "for k, v in data.items():\n",
        "    ht.insert(k, v)\n",
        "\n",
        "print(\"Isi tabel Chaining:\", ht)\n"
      ],
      "metadata": {
        "colab": {
          "base_uri": "https://localhost:8080/"
        },
        "id": "VSS4jNDrpGPH",
        "outputId": "c04fce6e-e684-459e-ddab-6095ca7bda25"
      },
      "execution_count": 2,
      "outputs": [
        {
          "output_type": "stream",
          "name": "stdout",
          "text": [
            "Isi tabel Chaining: [[], [('apel', 100)], [('melon', 200), ('lemon', 300), ('pisang', 400)]]\n"
          ]
        }
      ]
    },
    {
      "cell_type": "code",
      "source": [],
      "metadata": {
        "id": "VCbsCWZOsS4k"
      },
      "execution_count": null,
      "outputs": []
    }
  ]
}